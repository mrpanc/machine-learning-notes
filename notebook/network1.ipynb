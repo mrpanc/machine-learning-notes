{
 "cells": [
  {
   "cell_type": "code",
   "execution_count": 1,
   "metadata": {},
   "outputs": [
    {
     "name": "stdout",
     "output_type": "stream",
     "text": [
      "importing Jupyter notebook from mnist_loader.ipynb\n"
     ]
    }
   ],
   "source": [
    "import numpy as np\n",
    "import random\n",
    "import ipynb_importer\n",
    "import mnist_loader"
   ]
  },
  {
   "cell_type": "code",
   "execution_count": 2,
   "metadata": {
    "collapsed": true
   },
   "outputs": [],
   "source": [
    "# Standard library\n",
    "import random\n",
    "\n",
    "# Third-party libraries\n",
    "import numpy as np\n",
    "\n",
    "class Network(object):\n",
    "    def __init__(self, sizes):\n",
    "        \"\"\"初始化神经网络\n",
    "        1. 根据输入，得到神经网络的结构\n",
    "        2. 根据神经网络的结构使用均值为0，方差为1的高斯分布初始化参数权值w和偏差b。\n",
    "        输入：\n",
    "        sizes: list, 表示神经网络各个layer的数目，例如[784, 30, 10]表示3层的神经网络。\n",
    "                    输入层784个神经元，隐藏层只有1层，有30个神经元，输出层有10个神经元。\n",
    "        \"\"\"\n",
    "        np.random.seed(41)\n",
    "        random.seed(41)\n",
    "        self.num_layers = len(sizes)\n",
    "        self.sizes = sizes\n",
    "        self.biases = [np.random.randn(y, 1) for y in sizes[1:]]\n",
    "        self.weights = [np.random.randn(y, x) for x, y in zip(sizes[:-1], sizes[1:])]\n",
    "\n",
    "    def feed_forward(self, a):\n",
    "        \"\"\"Return the output of the network if ``a`` is input.\"\"\"\n",
    "        for b, w in zip(self.biases, self.weights):\n",
    "            a = sigmoid(np.dot(w, a)+b)\n",
    "        return a\n",
    "\n",
    "    def SGD(self, training_data, epochs, mini_batch_size, alpha, test_data=None):\n",
    "        \"\"\"随机梯度下降\n",
    "        输入：\n",
    "        training_data：是由tuples ``(x, y)``组成的list，x表示输入，y表示预计输出\n",
    "        epoches：int, 表示训练整个数据集的次数\n",
    "        mini_batch_size: int, 在SGD过程中每次迭代使用训练集的数目\n",
    "        alpha: float, 学习速率\n",
    "        test_data: 是由tuples ``(x, y)``组成的list，x表示输入，y表示预计输出。\n",
    "                    如果提供了``test_data``，则每经过一次epoch，都计算并输出当前网络训练结果在测试集上的准确率。\n",
    "                    虽然可以检测网络训练效果，但是会降低网络训练的速度。\n",
    "        \"\"\"\n",
    "        if test_data:\n",
    "            n_test = len(test_data)\n",
    "        m = len(training_data)\n",
    "        for j in range(epochs):\n",
    "            np.random.shuffle(training_data)\n",
    "            mini_batches = [training_data[k:k+mini_batch_size]\n",
    "                        for k in range(0, m, mini_batch_size)]\n",
    "            for mini_batch in mini_batches:\n",
    "                self.update_mini_batch(mini_batch, alpha)\n",
    "            if test_data:\n",
    "                print(\"Epoch {0}: {1} / {2}\".format(j, self.evaluate(test_data), n_test))\n",
    "            else:\n",
    "                print(\"Epoch {0} complete\".format(j))\n",
    "\n",
    "    def update_mini_batch(self, mini_batch, alpha):\n",
    "        \"\"\"每迭代一次mini_batch，根据梯度下降方法，使用反向传播得到的结果更新权值``w``和偏差``b``\n",
    "        输入：\n",
    "        mini_batch: 由tuples ``(x, y)``组成的list\n",
    "        alpha: int，学习速率\n",
    "        \"\"\"\n",
    "        nabla_b = [np.zeros(b.shape) for b in self.biases]\n",
    "        nabla_w = [np.zeros(w.shape) for w in self.weights]\n",
    "        for x, y in mini_batch:\n",
    "            delta_nabla_b, delta_nable_w = self.back_prop(x, y)\n",
    "            nabla_b = [nb+dnb for nb, dnb in zip(nabla_b, delta_nabla_b)]\n",
    "            nabla_w = [nw+dnw for nw, dnw in zip(nabla_w, delta_nable_w)]\n",
    "        self.weights = [w-(alpha/len(mini_batch))*nw\n",
    "                    for w, nw in zip(self.weights, nabla_w)]\n",
    "        self.biases = [b-(alpha/len(mini_batch))*nb\n",
    "                    for b, nb in zip(self.biases, nabla_b)]\n",
    "\n",
    "    def back_prop(self, x, y):\n",
    "        \"\"\"反向传播\n",
    "        1. 前向传播，获得每一层的激活值\n",
    "        2. 根据输出值计算得到输出层的误差``delta``\n",
    "        3. 根据``delta``计算输出层C_x对参数``w``, ``b``的偏导\n",
    "        4. 反向传播得到每一层的误差，并根据误差计算当前层C_x对参数``w``, ``b``的偏导\n",
    "        输入：\n",
    "        x: np.ndarray, 单个训练数据\n",
    "        y: np.ndarray, 训练数据对应的预计输出值\n",
    "        输出：\n",
    "        nabla_b: list, C_x对``b``的偏导\n",
    "        nabla_w: list, C_x对``w``的偏导\n",
    "        \"\"\"\n",
    "        nabla_b = [np.zeros(b.shape) for b in self.biases]\n",
    "        nabla_w = [np.zeros(w.shape) for w in self.weights]\n",
    "\n",
    "        # forward prop\n",
    "        activation = x\n",
    "        activations = [x]\n",
    "        zs = []\n",
    "        for b, w in zip(self.biases, self.weights):\n",
    "            z = np.dot(w, activation)+b\n",
    "            zs.append(z)\n",
    "            activation = sigmoid(z)\n",
    "            activations.append(activation)\n",
    "        # backward prop\n",
    "        delta = self.cost_derivative(activations[-1], y)*sigmoid_prime(zs[-1])\n",
    "        nabla_b[-1] = delta\n",
    "        nabla_w[-1] = np.dot(delta, activations[-2].transpose())\n",
    "        for l in range(2, self.num_layers):\n",
    "            z = zs[-l];\n",
    "            sp = sigmoid_prime(z)\n",
    "            delta = np.dot(self.weights[-l+1].transpose(), delta)*sp\n",
    "            nabla_b[-l] = delta\n",
    "            nabla_w[-l] = np.dot(delta, activations[-l-1].transpose())\n",
    "        return (nabla_b, nabla_w)\n",
    "\n",
    "    def evaluate(self, test_data):\n",
    "        \"\"\"计算准确率，将测试集中的x带入训练后的网络计算得到输出值，\n",
    "            并得到最终的分类结果，与预期的结果进行比对，最终得到测试集中被正确分类的数目\n",
    "        输入：\n",
    "        test_data: 由tuples ``(x, y)``组成的list\n",
    "        输出：\n",
    "        int, 测试集中正确分类的数据个数\n",
    "        \"\"\"\n",
    "        test_results = [(np.argmax(self.feed_forward(x)), y) for x, y in test_data]\n",
    "        return sum(int(x==y) for (x, y) in test_results)\n",
    "\n",
    "    def cost_derivative(self, output_activations, y):\n",
    "        \"\"\"代价函数对a的偏导\n",
    "        输入：\n",
    "        output_activations： np.ndarray, 输出层的激活值，即a^L\n",
    "        y: np.ndarray, 预计输出值\n",
    "        输出：\n",
    "        output_activations-y: list, 偏导值\n",
    "        \"\"\"\n",
    "        return (output_activations-y)\n",
    "\n",
    "## 激活函数及其导数\n",
    "def sigmoid(z):\n",
    "    \"\"\"The sigmoid function\"\"\"\n",
    "    return 1.0/(1.0+np.exp(-z))\n",
    "\n",
    "def sigmoid_prime(z):\n",
    "    \"\"\"Derivative of the sigmoid function\"\"\"\n",
    "    return sigmoid(z)*(1-sigmoid(z))"
   ]
  },
  {
   "cell_type": "code",
   "execution_count": 3,
   "metadata": {
    "scrolled": false
   },
   "outputs": [
    {
     "name": "stdout",
     "output_type": "stream",
     "text": [
      "[array([[-0.27071232],\n",
      "       [ 0.10484805],\n",
      "       [ 0.25052782]]), array([[-0.92519997]])]\n",
      "[array([[ 0.56714366, -1.04018022],\n",
      "       [-0.15367595,  0.78985181],\n",
      "       [-1.22621585, -0.94800699]]), array([[-0.56965394, -0.97715021, -0.77063171]])]\n"
     ]
    }
   ],
   "source": [
    "net = Network([2,3,1])\n",
    "print(net.biases)\n",
    "print(net.weights)"
   ]
  },
  {
   "cell_type": "code",
   "execution_count": 4,
   "metadata": {},
   "outputs": [
    {
     "name": "stdout",
     "output_type": "stream",
     "text": [
      "Wall time: 9.92 s\n"
     ]
    }
   ],
   "source": [
    "%%time\n",
    "training_data, test_data = mnist_loader.load_data_wrapper(\"../data\")"
   ]
  },
  {
   "cell_type": "code",
   "execution_count": 5,
   "metadata": {
    "scrolled": true
   },
   "outputs": [
    {
     "name": "stdout",
     "output_type": "stream",
     "text": [
      "Epoch 0: 9121 / 10000\n",
      "Epoch 1: 9271 / 10000\n",
      "Epoch 2: 9317 / 10000\n",
      "Epoch 3: 9371 / 10000\n",
      "Epoch 4: 9362 / 10000\n",
      "Epoch 5: 9395 / 10000\n",
      "Epoch 6: 9393 / 10000\n",
      "Epoch 7: 9475 / 10000\n",
      "Epoch 8: 9473 / 10000\n",
      "Epoch 9: 9473 / 10000\n",
      "Epoch 10: 9450 / 10000\n",
      "Epoch 11: 9466 / 10000\n",
      "Epoch 12: 9477 / 10000\n",
      "Epoch 13: 9497 / 10000\n",
      "Epoch 14: 9475 / 10000\n",
      "Epoch 15: 9477 / 10000\n",
      "Epoch 16: 9481 / 10000\n",
      "Epoch 17: 9483 / 10000\n",
      "Epoch 18: 9498 / 10000\n",
      "Epoch 19: 9471 / 10000\n",
      "Epoch 20: 9488 / 10000\n",
      "Epoch 21: 9486 / 10000\n",
      "Epoch 22: 9465 / 10000\n",
      "Epoch 23: 9461 / 10000\n",
      "Epoch 24: 9499 / 10000\n",
      "Epoch 25: 9496 / 10000\n",
      "Epoch 26: 9501 / 10000\n",
      "Epoch 27: 9498 / 10000\n",
      "Epoch 28: 9499 / 10000\n",
      "Epoch 29: 9506 / 10000\n",
      "Wall time: 3min 32s\n"
     ]
    }
   ],
   "source": [
    "%%time\n",
    "net = Network([784, 30, 10])\n",
    "net.SGD(training_data, 30, 10, 3, test_data=test_data)"
   ]
  },
  {
   "cell_type": "code",
   "execution_count": 6,
   "metadata": {},
   "outputs": [
    {
     "name": "stdout",
     "output_type": "stream",
     "text": [
      "Epoch 0: 9176 / 10000\n",
      "Epoch 1: 9307 / 10000\n",
      "Epoch 2: 9406 / 10000\n",
      "Epoch 3: 9433 / 10000\n",
      "Epoch 4: 9476 / 10000\n",
      "Epoch 5: 9508 / 10000\n",
      "Epoch 6: 9499 / 10000\n",
      "Epoch 7: 9502 / 10000\n",
      "Epoch 8: 9528 / 10000\n",
      "Epoch 9: 9533 / 10000\n",
      "Epoch 10: 9569 / 10000\n",
      "Epoch 11: 9573 / 10000\n",
      "Epoch 12: 9559 / 10000\n",
      "Epoch 13: 9592 / 10000\n",
      "Epoch 14: 9566 / 10000\n",
      "Epoch 15: 9588 / 10000\n",
      "Epoch 16: 9575 / 10000\n",
      "Epoch 17: 9588 / 10000\n",
      "Epoch 18: 9584 / 10000\n",
      "Epoch 19: 9587 / 10000\n",
      "Epoch 20: 9583 / 10000\n",
      "Epoch 21: 9607 / 10000\n",
      "Epoch 22: 9589 / 10000\n",
      "Epoch 23: 9595 / 10000\n",
      "Epoch 24: 9605 / 10000\n",
      "Epoch 25: 9600 / 10000\n",
      "Epoch 26: 9600 / 10000\n",
      "Epoch 27: 9595 / 10000\n",
      "Epoch 28: 9592 / 10000\n",
      "Epoch 29: 9599 / 10000\n",
      "Wall time: 4min 46s\n"
     ]
    }
   ],
   "source": [
    "%%time\n",
    "net = Network([784, 50, 10])\n",
    "net.SGD(training_data, 30, 10, 3, test_data=test_data)"
   ]
  },
  {
   "cell_type": "code",
   "execution_count": null,
   "metadata": {
    "collapsed": true
   },
   "outputs": [],
   "source": []
  }
 ],
 "metadata": {
  "hide_input": false,
  "kernelspec": {
   "display_name": "Python 3",
   "language": "python",
   "name": "python3"
  },
  "language_info": {
   "codemirror_mode": {
    "name": "ipython",
    "version": 3
   },
   "file_extension": ".py",
   "mimetype": "text/x-python",
   "name": "python",
   "nbconvert_exporter": "python",
   "pygments_lexer": "ipython3",
   "version": "3.6.3"
  },
  "toc": {
   "nav_menu": {},
   "number_sections": true,
   "sideBar": true,
   "skip_h1_title": false,
   "toc_cell": false,
   "toc_position": {},
   "toc_section_display": "block",
   "toc_window_display": false
  }
 },
 "nbformat": 4,
 "nbformat_minor": 2
}
