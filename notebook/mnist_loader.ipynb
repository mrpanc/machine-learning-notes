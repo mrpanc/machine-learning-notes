{
 "cells": [
  {
   "cell_type": "code",
   "execution_count": 12,
   "metadata": {
    "collapsed": true
   },
   "outputs": [],
   "source": [
    "import numpy as np\n",
    "from mnist import MNIST\n",
    "from sklearn.preprocessing import MinMaxScaler\n",
    "def vectorized_result(j):\n",
    "    \"\"\"\n",
    "    将数字(0...9)变为one hot向量\n",
    "    \n",
    "    输入：\n",
    "        j: int，数字(0...9)\n",
    "    \n",
    "    输出：\n",
    "        e: np.ndarray, 10维的向量，其中第j位为1，其他位都为0。\n",
    "    \"\"\"\n",
    "    e = np.zeros((10, 1));\n",
    "    e[j] = 1.0\n",
    "    return e\n",
    "\n",
    "def load_data_wrapper(dirpath):\n",
    "    \"\"\"\n",
    "    载入mnist数字识别数据集\n",
    "    \n",
    "    输入：\n",
    "        dirpath: str, 数据所在文件夹路径\n",
    "    输出：\n",
    "        training_data: list, 包含了60000个训练数据集，其中每一个数据由一个tuple '(x, y)'组成，\n",
    "                        x是训练的数字图像，类型是np.ndarray, 维度是(784,1)\n",
    "                        y表示训练的图像所属的标签，是一个10维的one hot向量\n",
    "        test_data: list, 包含了10000个测试数据集，其中每一个数据由一个tuple '(x, y)'组成，\n",
    "                        x是测试的数字图像，类型是np.ndarray, 维度是(784,1)\n",
    "                        y表示测试的图像所属标签，int类型，是一个(0...9)的数字\n",
    "    \"\"\"\n",
    "    mndata = MNIST(dirpath)\n",
    "    tr_i, tr_o = mndata.load_training()\n",
    "    te_i, te_o = mndata.load_testing()\n",
    "    min_max_scaler = MinMaxScaler()\n",
    "    tr_i = min_max_scaler.fit_transform(tr_i)\n",
    "    te_i = min_max_scaler.transform(te_i)\n",
    "    training_inputs = [np.reshape(x, (784, 1)) for x in tr_i]\n",
    "    training_outputs = [vectorized_result(y) for y in tr_o]\n",
    "    training_data = list(zip(training_inputs, training_outputs))\n",
    "    test_inputs = [np.reshape(x, (784, 1)) for x in te_i]\n",
    "    test_data = list(zip(test_inputs, te_o))\n",
    "    return training_data, test_data"
   ]
  }
 ],
 "metadata": {
  "hide_input": false,
  "kernelspec": {
   "display_name": "Python 3",
   "language": "python",
   "name": "python3"
  },
  "language_info": {
   "codemirror_mode": {
    "name": "ipython",
    "version": 3
   },
   "file_extension": ".py",
   "mimetype": "text/x-python",
   "name": "python",
   "nbconvert_exporter": "python",
   "pygments_lexer": "ipython3",
   "version": "3.6.3"
  },
  "toc": {
   "nav_menu": {},
   "number_sections": true,
   "sideBar": true,
   "skip_h1_title": false,
   "toc_cell": false,
   "toc_position": {},
   "toc_section_display": "block",
   "toc_window_display": false
  }
 },
 "nbformat": 4,
 "nbformat_minor": 2
}
